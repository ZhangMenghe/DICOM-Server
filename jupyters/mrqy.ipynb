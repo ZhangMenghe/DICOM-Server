{
 "cells": [
  {
   "cell_type": "code",
   "execution_count": 1,
   "metadata": {},
   "outputs": [],
   "source": [
    "from os import listdir,path\n",
    "import pydicom\n",
    "import numpy as np\n",
    "import matplotlib.pyplot as plt\n",
    "import cv2\n",
    "cv2.__version__\n",
    "\n",
    "from scipy.stats import norm\n",
    "from scipy.ndimage import maximum_filter, minimum_filter\n",
    "from scipy.ndimage.morphology import binary_fill_holes"
   ]
  },
  {
   "cell_type": "code",
   "execution_count": 4,
   "metadata": {},
   "outputs": [],
   "source": [
    "def imshow_single(img, title):\n",
    "    fig,ax = plt.subplots()\n",
    "    ax.imshow(img,cmap='gray')\n",
    "    ax.set_title(title)\n",
    "def imshow_double(img1, img2, title):\n",
    "    fig, (ax1, ax2) = plt.subplots(1, 2)\n",
    "    ax1.imshow(img1,cmap='gray')\n",
    "    ax2.imshow(img2,cmap='gray')\n",
    "    fig.suptitle(title, fontsize=16)"
   ]
  },
  {
   "cell_type": "code",
   "execution_count": 2,
   "metadata": {},
   "outputs": [],
   "source": [
    "from dicomUtils import *\n",
    "vol_path='../data/PACS/Larry_Smarr_2016/series_23_Cor_LAVA_PRE-Amira/'\n",
    "vs = getVolume(vol_path)"
   ]
  },
  {
   "cell_type": "code",
   "execution_count": 3,
   "metadata": {},
   "outputs": [],
   "source": [
    "volume_data = vs.raw_data\n",
    "volume_data.shape\n",
    "img = volume_data[:,:,70]\n",
    "img = img.astype(np.uint16)"
   ]
  },
  {
   "cell_type": "code",
   "execution_count": 17,
   "metadata": {},
   "outputs": [],
   "source": [
    "def foreground(img):\n",
    "    try:\n",
    "        h = ex.equalize_hist(img[:,:])*255\n",
    "        oi = np.zeros_like(img, dtype=np.uint16)\n",
    "        oi[(img > threshold_otsu(img)) == True] = 1\n",
    "        oh = np.zeros_like(img, dtype=np.uint16)\n",
    "        oh[(h > threshold_otsu(h)) == True] = 1\n",
    "        nm = img.shape[0] * img.shape[1]\n",
    "        w1 = np.sum(oi)/(nm)\n",
    "        w2 = np.sum(oh)/(nm)\n",
    "        ots = np.zeros_like(img, dtype=np.uint16)\n",
    "        new =( w1 * img) + (w2 * h)\n",
    "        ots[(new > threshold_otsu(new)) == True] = 1\n",
    "        conv_hull = convex_hull_image(ots)\n",
    "        ch = np.multiply(conv_hull, 1)\n",
    "        fore_image = ch * img\n",
    "        back_image = (1 - ch) * img\n",
    "    except Exception: \n",
    "        print(\"exception\")\n",
    "        fore_image = img.copy()\n",
    "        back_image = np.zeros_like(img, dtype=np.uint16)\n",
    "        conv_hull = np.zeros_like(img, dtype=np.uint16)\n",
    "    return fore_image, back_image, conv_hull, img[conv_hull], img[conv_hull==False]"
   ]
  },
  {
   "cell_type": "code",
   "execution_count": 36,
   "metadata": {},
   "outputs": [
    {
     "ename": "error",
     "evalue": "OpenCV(4.2.0) /io/opencv/modules/imgproc/src/grabcut.cpp:99: error: (-5:Bad argument) _model must have CV_64FC1 type, rows == 1 and cols == 13*componentsCount in function 'GMM'\n",
     "output_type": "error",
     "traceback": [
      "\u001b[0;31m---------------------------------------------------------------------------\u001b[0m",
      "\u001b[0;31merror\u001b[0m                                     Traceback (most recent call last)",
      "\u001b[0;32m<ipython-input-36-f646f5ce1ac1>\u001b[0m in \u001b[0;36m<module>\u001b[0;34m\u001b[0m\n\u001b[1;32m      5\u001b[0m \u001b[0mfgdModel\u001b[0m \u001b[0;34m=\u001b[0m \u001b[0mnp\u001b[0m\u001b[0;34m.\u001b[0m\u001b[0mzeros\u001b[0m\u001b[0;34m(\u001b[0m\u001b[0;34m(\u001b[0m\u001b[0;36m1\u001b[0m\u001b[0;34m,\u001b[0m\u001b[0;36m30\u001b[0m\u001b[0;34m)\u001b[0m\u001b[0;34m,\u001b[0m\u001b[0mnp\u001b[0m\u001b[0;34m.\u001b[0m\u001b[0mfloat64\u001b[0m\u001b[0;34m)\u001b[0m\u001b[0;34m\u001b[0m\u001b[0;34m\u001b[0m\u001b[0m\n\u001b[1;32m      6\u001b[0m \u001b[0mrect\u001b[0m \u001b[0;34m=\u001b[0m \u001b[0;34m(\u001b[0m\u001b[0;36m0\u001b[0m\u001b[0;34m,\u001b[0m\u001b[0;36m0\u001b[0m\u001b[0;34m,\u001b[0m\u001b[0;36m500\u001b[0m\u001b[0;34m,\u001b[0m\u001b[0;36m500\u001b[0m\u001b[0;34m)\u001b[0m\u001b[0;34m\u001b[0m\u001b[0;34m\u001b[0m\u001b[0m\n\u001b[0;32m----> 7\u001b[0;31m \u001b[0mcv2\u001b[0m\u001b[0;34m.\u001b[0m\u001b[0mgrabCut\u001b[0m\u001b[0;34m(\u001b[0m\u001b[0mrimg\u001b[0m\u001b[0;34m,\u001b[0m\u001b[0mmask\u001b[0m\u001b[0;34m,\u001b[0m\u001b[0mrect\u001b[0m\u001b[0;34m,\u001b[0m\u001b[0mbgdModel\u001b[0m\u001b[0;34m,\u001b[0m\u001b[0mfgdModel\u001b[0m\u001b[0;34m,\u001b[0m\u001b[0;36m5\u001b[0m\u001b[0;34m,\u001b[0m\u001b[0mcv2\u001b[0m\u001b[0;34m.\u001b[0m\u001b[0mGC_INIT_WITH_RECT\u001b[0m\u001b[0;34m)\u001b[0m\u001b[0;34m\u001b[0m\u001b[0;34m\u001b[0m\u001b[0m\n\u001b[0m\u001b[1;32m      8\u001b[0m \u001b[0mmask2\u001b[0m \u001b[0;34m=\u001b[0m \u001b[0mnp\u001b[0m\u001b[0;34m.\u001b[0m\u001b[0mwhere\u001b[0m\u001b[0;34m(\u001b[0m\u001b[0;34m(\u001b[0m\u001b[0mmask\u001b[0m\u001b[0;34m==\u001b[0m\u001b[0;36m2\u001b[0m\u001b[0;34m)\u001b[0m\u001b[0;34m|\u001b[0m\u001b[0;34m(\u001b[0m\u001b[0mmask\u001b[0m\u001b[0;34m==\u001b[0m\u001b[0;36m0\u001b[0m\u001b[0;34m)\u001b[0m\u001b[0;34m,\u001b[0m\u001b[0;36m0\u001b[0m\u001b[0;34m,\u001b[0m\u001b[0;36m1\u001b[0m\u001b[0;34m)\u001b[0m\u001b[0;34m.\u001b[0m\u001b[0mastype\u001b[0m\u001b[0;34m(\u001b[0m\u001b[0;34m'uint8'\u001b[0m\u001b[0;34m)\u001b[0m\u001b[0;34m\u001b[0m\u001b[0;34m\u001b[0m\u001b[0m\n\u001b[1;32m      9\u001b[0m \u001b[0mrimg\u001b[0m \u001b[0;34m=\u001b[0m \u001b[0mrimg\u001b[0m\u001b[0;34m*\u001b[0m\u001b[0mmask2\u001b[0m\u001b[0;34m[\u001b[0m\u001b[0;34m:\u001b[0m\u001b[0;34m,\u001b[0m\u001b[0;34m:\u001b[0m\u001b[0;34m,\u001b[0m\u001b[0mnp\u001b[0m\u001b[0;34m.\u001b[0m\u001b[0mnewaxis\u001b[0m\u001b[0;34m]\u001b[0m\u001b[0;34m\u001b[0m\u001b[0;34m\u001b[0m\u001b[0m\n",
      "\u001b[0;31merror\u001b[0m: OpenCV(4.2.0) /io/opencv/modules/imgproc/src/grabcut.cpp:99: error: (-5:Bad argument) _model must have CV_64FC1 type, rows == 1 and cols == 13*componentsCount in function 'GMM'\n"
     ]
    }
   ],
   "source": [
    "rimg = cv2.cvtColor(img,cv2.COLOR_GRAY2RGB).astype(np.uint8)\n",
    "\n",
    "mask = np.zeros(img.shape,np.uint8)\n",
    "bgdModel = np.zeros((1,65),np.float64)\n",
    "fgdModel = np.zeros((1,65),np.float64)\n",
    "rect = (0,0,500,500)\n",
    "cv2.grabCut(rimg,mask,rect,bgdModel,fgdModel,5,cv2.GC_INIT_WITH_RECT)\n",
    "mask2 = np.where((mask==2)|(mask==0),0,1).astype('uint8')\n",
    "rimg = rimg*mask2[:,:,np.newaxis]\n",
    "imshow_double(img, rimg, 'ori-fore')"
   ]
  },
  {
   "cell_type": "code",
   "execution_count": 37,
   "metadata": {},
   "outputs": [
    {
     "name": "stdout",
     "output_type": "stream",
     "text": [
      "exception\n"
     ]
    }
   ],
   "source": [
    "fore_image, back_image, conv_hull, conv_hull, conv_hall_false = foreground(img)"
   ]
  },
  {
   "cell_type": "code",
   "execution_count": null,
   "metadata": {},
   "outputs": [],
   "source": []
  }
 ],
 "metadata": {
  "kernelspec": {
   "display_name": "server",
   "language": "python",
   "name": "server"
  },
  "language_info": {
   "codemirror_mode": {
    "name": "ipython",
    "version": 3
   },
   "file_extension": ".py",
   "mimetype": "text/x-python",
   "name": "python",
   "nbconvert_exporter": "python",
   "pygments_lexer": "ipython3",
   "version": "3.7.5"
  }
 },
 "nbformat": 4,
 "nbformat_minor": 2
}
