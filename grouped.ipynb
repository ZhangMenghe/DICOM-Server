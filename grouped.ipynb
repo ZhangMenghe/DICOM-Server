{
 "cells": [
  {
   "cell_type": "code",
   "execution_count": 1,
   "metadata": {},
   "outputs": [],
   "source": [
    "from dicomUtils import *\n",
    "from generateIndexFile import *\n",
    "import matplotlib.pyplot as plt\n",
    "\n",
    "def imshow_15(sup_title, images, titles):\n",
    "    fig=plt.figure(figsize=(50, 25))\n",
    "    columns = 5\n",
    "    rows = 3\n",
    "    for i in range(len(images)):\n",
    "        img = images[i]\n",
    "        ax=fig.add_subplot(rows, columns, i+1)\n",
    "#         ax.title.set_text(titles[i])#('{:.4f}'.format(titles[i]))\n",
    "\n",
    "        ax.set_title(titles[i], fontsize = 20) \n",
    "\n",
    "        plt.axis('off')\n",
    "        plt.imshow(img,cmap='gray')\n",
    "#     fig.suptitle(sup_title, fontsize=16)\n",
    "    fig.tight_layout(rect=[0, 0.03, 1, 0.95])\n",
    "#     plt.show()\n",
    "    plt.savefig(sup_title)\n",
    "def imshow_25(sup_title, images, titles):\n",
    "    fig=plt.figure(figsize=(16, 16))\n",
    "    columns = 5\n",
    "    rows = 5\n",
    "    for i in range(len(images)):\n",
    "        img = images[i]\n",
    "        ax=fig.add_subplot(rows, columns, i+1)\n",
    "        ax.title.set_text(titles[i])#('{:.4f}'.format(titles[i]))\n",
    "        plt.axis('off')\n",
    "        plt.imshow(img,cmap='gray')\n",
    "    fig.suptitle(sup_title, fontsize=16)\n",
    "    fig.tight_layout(rect=[0, 0.03, 1, 0.95])\n",
    "    plt.show()\n",
    "    plt.savefig(sup_title)"
   ]
  },
  {
   "cell_type": "code",
   "execution_count": 10,
   "metadata": {},
   "outputs": [],
   "source": [
    "from transManager_pb2 import *\n",
    "from dicomUtils import *\n",
    "from ast import literal_eval\n",
    "def build_volume_struct_from_files(rf_path):\n",
    "    vsc = []\n",
    "    tn_pre = 'report/' + rf_path.split('/')[-2]\n",
    "    with open(rf_path, 'r') as rf:\n",
    "        record_lines = rf.readlines()[3:]\n",
    "        record_num = int(len(record_lines) / 2)\n",
    "        for i in range(record_num):\n",
    "            infos = record_lines[2*i].split('/')\n",
    "            scores_np = np.array(record_lines[2*i+1].split('/')).astype(np.float)\n",
    "            simg = cv2.imread(path.join(tn_pre, infos[0], 'full.png'), 0)\n",
    "            spacing = literal_eval(infos[4])\n",
    "            vsc.append(volumeResponse.volumeInfo(folder_name=infos[0], \\\n",
    "                dims = literal_eval(infos[1]),\\\n",
    "                orientation = literal_eval(infos[2]),\\\n",
    "                resolution = [spacing[0],spacing[1], float(infos[5])],\\\n",
    "                volume_loc_range = float(infos[6]),\\\n",
    "                sample_img = simg.tobytes(),\\\n",
    "                scores = volumeResponse.scoreInfo(rgroup_id=int(infos[3]),\\\n",
    "                        raw_score=scores_np[:-3],\\\n",
    "                        raw_rank_score = [],\\\n",
    "                        num_score=scores_np[-3],\\\n",
    "                        tags_score=scores_np[-2],\\\n",
    "                        mask_score=scores_np[-1])))\n",
    "    return vsc"
   ]
  },
  {
   "cell_type": "code",
   "execution_count": 3,
   "metadata": {},
   "outputs": [],
   "source": [
    "vsc = build_volume_struct_from_files('../data/PACS/IRB02/index.txt')"
   ]
  },
  {
   "cell_type": "code",
   "execution_count": null,
   "metadata": {},
   "outputs": [],
   "source": [
    "from collections import namedtuple\n",
    "volumeStruct = namedtuple(\"volumeStruct\", \"name sample_img cut_group scores_raw scores_norm\")  "
   ]
  },
  {
   "cell_type": "code",
   "execution_count": null,
   "metadata": {},
   "outputs": [],
   "source": [
    "from ast import literal_eval\n",
    "def build_volume_struct_from_files(rf_path):\n",
    "    vsc = []\n",
    "    tn_pre = 'report/' + rf_path.split('/')[-2]\n",
    "    with open(rf_path, 'r') as rf:\n",
    "        record_lines = rf.readlines()[3:]\n",
    "        record_num = int(len(record_lines) / 2)\n",
    "        for i in range(record_num):\n",
    "            infos = record_lines[2*i].split('/')\n",
    "            scores = record_lines[2*i+1].split('/')\n",
    "            dims = literal_eval(infos[1])\n",
    "            simg = cv2.imread(path.join(tn_pre, infos[0], 'full.png'), 0)\n",
    "            vsc.append(volumeStruct(name=infos[0], sample_img=simg, cut_group=int(infos[3]), scores_raw = np.array(scores).astype(np.float), scores_norm=None))\n",
    "    return vsc"
   ]
  },
  {
   "cell_type": "code",
   "execution_count": null,
   "metadata": {},
   "outputs": [],
   "source": [
    "vsc = build_volume_struct_from_files('../data/PACS/IRB02/index.txt')"
   ]
  },
  {
   "cell_type": "code",
   "execution_count": 4,
   "metadata": {},
   "outputs": [],
   "source": [
    "vol_cut_group = []\n",
    "for vs in vsc:\n",
    "    vol_cut_group.append(vs.scores.rgroup_id)\n",
    "unique_group = np.unique(vol_cut_group)\n",
    "grouped_vsc = {}\n",
    "for gid in unique_group:\n",
    "    grouped_vsc[gid] = [vs for vs in vsc if vs.scores.rgroup_id == gid]"
   ]
  },
  {
   "cell_type": "code",
   "execution_count": 5,
   "metadata": {},
   "outputs": [
    {
     "data": {
      "text/plain": [
       "18"
      ]
     },
     "execution_count": 5,
     "metadata": {},
     "output_type": "execute_result"
    }
   ],
   "source": [
    "param_num = len(vsc[0].scores.raw_score)\n",
    "param_num"
   ]
  },
  {
   "cell_type": "code",
   "execution_count": 6,
   "metadata": {},
   "outputs": [],
   "source": [
    "grouped_vsc_sorted = {}\n",
    "for gvsc_id in grouped_vsc:\n",
    "    grouped_vsc_sorted[gvsc_id] = [vs for vs in sorted(grouped_vsc.get(gvsc_id), key=lambda vs: np.mean(vs.scores.raw_score), reverse=True)]"
   ]
  },
  {
   "cell_type": "code",
   "execution_count": 11,
   "metadata": {},
   "outputs": [],
   "source": [
    "default_sel_percent = 0.8\n",
    "grouped_vsc_sorted_norm = {}\n",
    "for gvsc_id in grouped_vsc:\n",
    "    gsvsc = grouped_vsc_sorted[gvsc_id]\n",
    "    \n",
    "    max_vs_local = []\n",
    "    for i in range(param_num):\n",
    "        max_vs_local.append(np.max([vs.scores.raw_score[i] for vs in gsvsc]))\n",
    "    \n",
    "    for i in range(len(gsvsc)):\n",
    "        gsvsc[i].scores.raw_rank_score.extend([u/(v+0.0001) for u,v in zip(gsvsc[i].scores.raw_score,max_vs_local)])\n",
    "        \n",
    "    sel_num = int(len(gsvsc) * default_sel_percent)\n",
    "    sel_gsvc = gsvsc[:sel_num]\n",
    "    rule_out_gsvc = gsvsc[sel_num:]\n",
    "    \n",
    "    \n",
    "    #sort_mean_sel_gsvc = [vs for vs in sorted(sel_gsvc, key=lambda vs: np.mean([u/(v+0.001) for u,v in zip(vs.scores_raw,max_vs_local)]), reverse=True)]\n",
    "    \n",
    "    sort_mean_sel_gsvc = [vs for vs in sorted(sel_gsvc, key=lambda vs: np.mean(vs.scores.raw_rank_score), reverse=True)]\n",
    "    grouped_vsc_sorted_norm[gvsc_id] = sort_mean_sel_gsvc + rule_out_gsvc"
   ]
  },
  {
   "cell_type": "code",
   "execution_count": 22,
   "metadata": {},
   "outputs": [
    {
     "name": "stdout",
     "output_type": "stream",
     "text": [
      "10\n",
      "15\n"
     ]
    }
   ],
   "source": [
    "for gid in unique_group:\n",
    "    titles = [ str(round(np.mean(vs.scores.raw_score), 2))+'/'+str(round(np.mean(vs.scores.raw_rank_score), 2)) + '\\n' + vs.folder_name for vs in grouped_vsc_sorted_norm[gid]]\n",
    "    print(len(titles))\n",
    "    #     imshow_15('group ' +str(gid),[np.frombuffer(vs.sample_img, np.dtype(np.int8))  for vs in grouped_vsc_sorted_norm[gid]], titles)"
   ]
  },
  {
   "cell_type": "code",
   "execution_count": 24,
   "metadata": {},
   "outputs": [
    {
     "data": {
      "text/plain": [
       "25"
      ]
     },
     "execution_count": 24,
     "metadata": {},
     "output_type": "execute_result"
    }
   ],
   "source": [
    "res_lst = []\n",
    "for gid in unique_group:\n",
    "    for vs in grouped_vsc_sorted_norm[gid]:\n",
    "        vs.scores.rank_score = np.mean(vs.scores.raw_rank_score)\n",
    "        res_lst.append(vs)\n",
    "len(res_lst)"
   ]
  },
  {
   "cell_type": "code",
   "execution_count": null,
   "metadata": {},
   "outputs": [],
   "source": [
    "print(vsc[0].name)\n",
    "print(vsc[0].sample_img.shape)\n",
    "print(vsc[0].cut_group)\n",
    "print(vsc[0].scores_raw)"
   ]
  },
  {
   "cell_type": "code",
   "execution_count": null,
   "metadata": {},
   "outputs": [],
   "source": [
    "\n",
    "sample_volume_names = [c[:-1] for c in contents]\n",
    "vsc = [volumeStruct(name = name_,sample_img = img, cut_group=cg, scores_raw = np.array(ss),scores_norm=None) for name_,img, cg, ss in zip(sample_volume_names, sample_volume, vol_cut_group,vol_ss_keeper)]"
   ]
  },
  {
   "cell_type": "code",
   "execution_count": null,
   "metadata": {},
   "outputs": [],
   "source": [
    "unique_group = np.unique(vol_cut_group)\n",
    "grouped_vsc = {}\n",
    "for gid in unique_group:\n",
    "    grouped_vsc[gid] = [vs for vs in vsc if vs.cut_group == gid]"
   ]
  },
  {
   "cell_type": "code",
   "execution_count": null,
   "metadata": {},
   "outputs": [],
   "source": [
    "grouped_vsc_sorted = {}\n",
    "for gvsc_id in grouped_vsc:\n",
    "    grouped_vsc_sorted[gvsc_id] = [vs for vs in sorted(grouped_vsc.get(gvsc_id), key=lambda vs: np.mean(vs.scores_raw), reverse=True)]"
   ]
  },
  {
   "cell_type": "code",
   "execution_count": null,
   "metadata": {},
   "outputs": [],
   "source": [
    "for gid in unique_group:\n",
    "    imshow_15(\"group \" + str(gid), [vs.sample_img for vs in grouped_vsc_sorted[gid]], [vs.name for vs in grouped_vsc_sorted[gid]])"
   ]
  },
  {
   "cell_type": "code",
   "execution_count": null,
   "metadata": {},
   "outputs": [],
   "source": [
    "default_sel_percent = 1.0\n",
    "param_num = len(vol_ss_keeper[0])\n",
    "grouped_vsc_sorted_norm = {}\n",
    "for gvsc_id in grouped_vsc:\n",
    "    gsvsc = grouped_vsc_sorted[gvsc_id]\n",
    "    \n",
    "    max_vs_local = []\n",
    "    for i in range(param_num):\n",
    "        max_vs_local.append(np.max([vs.scores_raw[i] for vs in gsvsc]))\n",
    "    \n",
    "    for i in range(len(gsvsc)):\n",
    "        gsvsc[i] = gsvsc[i]._replace(scores_norm = [u/(v+0.0001) for u,v in zip(gsvsc[i].scores_raw,max_vs_local)])\n",
    "        \n",
    "    sel_num = int(len(gsvsc) * default_sel_percent)\n",
    "    sel_gsvc = gsvsc[:sel_num]\n",
    "    rule_out_gsvc = gsvsc[sel_num:]\n",
    "    \n",
    "    \n",
    "    #sort_mean_sel_gsvc = [vs for vs in sorted(sel_gsvc, key=lambda vs: np.mean([u/(v+0.001) for u,v in zip(vs.scores_raw,max_vs_local)]), reverse=True)]\n",
    "    \n",
    "    sort_mean_sel_gsvc = [vs for vs in sorted(sel_gsvc, key=lambda vs: np.mean(vs.scores_norm), reverse=True)]\n",
    "    grouped_vsc_sorted_norm[gvsc_id] = sort_mean_sel_gsvc + rule_out_gsvc"
   ]
  },
  {
   "cell_type": "code",
   "execution_count": null,
   "metadata": {},
   "outputs": [],
   "source": [
    "for gid in unique_group:\n",
    "    titles = [ str(round(np.mean(vs.scores_raw), 2))+'/'+str(round(np.mean(vs.scores_norm), 2)) + '\\n' + vs.name for vs in grouped_vsc_sorted_norm[gid]]\n",
    "    imshow_15('group ' +str(gid),[vs.sample_img for vs in grouped_vsc_sorted_norm[gid]], titles)"
   ]
  },
  {
   "cell_type": "code",
   "execution_count": null,
   "metadata": {},
   "outputs": [],
   "source": []
  },
  {
   "cell_type": "code",
   "execution_count": null,
   "metadata": {},
   "outputs": [],
   "source": [
    "save_thumbnails(\"report/Larry-2012-01-17-MRI\", vd.raw_data)"
   ]
  },
  {
   "cell_type": "code",
   "execution_count": null,
   "metadata": {},
   "outputs": [],
   "source": [
    "def imshow_single(img, title):\n",
    "    fig,ax = plt.subplots()\n",
    "    ax.imshow(img,cmap='gray')\n",
    "    ax.set_title(title)\n",
    "    plt.axis('off')"
   ]
  },
  {
   "cell_type": "code",
   "execution_count": null,
   "metadata": {},
   "outputs": [],
   "source": [
    "# default_report_name = 'report.tsv'\n",
    "# def export_report(report_path, scores):\n",
    "#     report_path = os.path.join(report_path, default_report_namee)\n",
    "#     #write headers\n",
    "#     if not os.path.exists(report_path):\n",
    "#         with open(report_path, 'w') as rf:\n",
    "#             rf.write(\"#items: \" + '\\t'.join(measure_func.keys()) + '\\n')\n",
    "#     with open(report_path, 'a') as rf:\n",
    "#         rf.write()\n",
    "    \n",
    "#     #write contents\n",
    "    "
   ]
  }
 ],
 "metadata": {
  "kernelspec": {
   "display_name": "server",
   "language": "python",
   "name": "server"
  },
  "language_info": {
   "codemirror_mode": {
    "name": "ipython",
    "version": 3
   },
   "file_extension": ".py",
   "mimetype": "text/x-python",
   "name": "python",
   "nbconvert_exporter": "python",
   "pygments_lexer": "ipython3",
   "version": "3.7.5"
  }
 },
 "nbformat": 4,
 "nbformat_minor": 2
}
